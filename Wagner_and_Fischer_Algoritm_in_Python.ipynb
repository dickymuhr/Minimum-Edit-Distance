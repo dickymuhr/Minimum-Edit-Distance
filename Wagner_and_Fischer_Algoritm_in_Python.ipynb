{
  "nbformat": 4,
  "nbformat_minor": 0,
  "metadata": {
    "colab": {
      "name": "Wagner and Fischer Algoritm in Python",
      "provenance": [],
      "collapsed_sections": [],
      "authorship_tag": "ABX9TyPdxxaRWxQgoUaKd4Yd+TvT",
      "include_colab_link": true
    },
    "kernelspec": {
      "name": "python3",
      "display_name": "Python 3"
    },
    "language_info": {
      "name": "python"
    }
  },
  "cells": [
    {
      "cell_type": "markdown",
      "metadata": {
        "id": "view-in-github",
        "colab_type": "text"
      },
      "source": [
        "<a href=\"https://colab.research.google.com/github/dickymuhr/Minimum-Edit-Distance/blob/main/Wagner_and_Fischer_Algoritm_in_Python.ipynb\" target=\"_parent\"><img src=\"https://colab.research.google.com/assets/colab-badge.svg\" alt=\"Open In Colab\"/></a>"
      ]
    },
    {
      "cell_type": "code",
      "metadata": {
        "id": "gFpG-35GYC7f"
      },
      "source": [
        "#Initializing\n",
        "source = \"intention\" #Change here\n",
        "target = \"execution\" #Change here\n",
        "\n",
        "n = len(source) #row\n",
        "m = len(target) #column\n",
        "\n",
        "#Weight for each edit\n",
        "delcost = 1\n",
        "inscost = 1\n",
        "def subcost(a:str,b:str)-> int:\n",
        "  if(a!=b):\n",
        "    return 2\n",
        "  else: return 0"
      ],
      "execution_count": 1,
      "outputs": []
    },
    {
      "cell_type": "code",
      "metadata": {
        "colab": {
          "base_uri": "https://localhost:8080/"
        },
        "id": "rYdxVxtyZLSc",
        "outputId": "bfdfc5c6-8d4e-4a20-8d2b-f99d3a2d2a99"
      },
      "source": [
        "#Make 2D Array\n",
        "D = [[0 for i in range(m+1)] for j in range(n+1)]\n",
        "D"
      ],
      "execution_count": 2,
      "outputs": [
        {
          "output_type": "execute_result",
          "data": {
            "text/plain": [
              "[[0, 0, 0, 0, 0, 0, 0, 0, 0, 0],\n",
              " [0, 0, 0, 0, 0, 0, 0, 0, 0, 0],\n",
              " [0, 0, 0, 0, 0, 0, 0, 0, 0, 0],\n",
              " [0, 0, 0, 0, 0, 0, 0, 0, 0, 0],\n",
              " [0, 0, 0, 0, 0, 0, 0, 0, 0, 0],\n",
              " [0, 0, 0, 0, 0, 0, 0, 0, 0, 0],\n",
              " [0, 0, 0, 0, 0, 0, 0, 0, 0, 0],\n",
              " [0, 0, 0, 0, 0, 0, 0, 0, 0, 0],\n",
              " [0, 0, 0, 0, 0, 0, 0, 0, 0, 0],\n",
              " [0, 0, 0, 0, 0, 0, 0, 0, 0, 0]]"
            ]
          },
          "metadata": {},
          "execution_count": 2
        }
      ]
    },
    {
      "cell_type": "code",
      "metadata": {
        "id": "4IFo_bPGZUa6"
      },
      "source": [
        "#Distance to make source to empty string\n",
        "for i in range(1,n+1): \n",
        "  D[i][0] = D[i-1][0] + delcost"
      ],
      "execution_count": 3,
      "outputs": []
    },
    {
      "cell_type": "code",
      "metadata": {
        "id": "nhrunD82ZfU_"
      },
      "source": [
        "#Distance to make empty string to target\n",
        "for j in range(1,m+1):\n",
        "  D[0][j] = D[0][j-1] + inscost"
      ],
      "execution_count": 4,
      "outputs": []
    },
    {
      "cell_type": "code",
      "metadata": {
        "colab": {
          "base_uri": "https://localhost:8080/"
        },
        "id": "sj-2BmjyeqBP",
        "outputId": "d6f6be11-ce44-41ef-809b-9ae42d6cc1e6"
      },
      "source": [
        "D"
      ],
      "execution_count": 5,
      "outputs": [
        {
          "output_type": "execute_result",
          "data": {
            "text/plain": [
              "[[0, 1, 2, 3, 4, 5, 6, 7, 8, 9],\n",
              " [1, 0, 0, 0, 0, 0, 0, 0, 0, 0],\n",
              " [2, 0, 0, 0, 0, 0, 0, 0, 0, 0],\n",
              " [3, 0, 0, 0, 0, 0, 0, 0, 0, 0],\n",
              " [4, 0, 0, 0, 0, 0, 0, 0, 0, 0],\n",
              " [5, 0, 0, 0, 0, 0, 0, 0, 0, 0],\n",
              " [6, 0, 0, 0, 0, 0, 0, 0, 0, 0],\n",
              " [7, 0, 0, 0, 0, 0, 0, 0, 0, 0],\n",
              " [8, 0, 0, 0, 0, 0, 0, 0, 0, 0],\n",
              " [9, 0, 0, 0, 0, 0, 0, 0, 0, 0]]"
            ]
          },
          "metadata": {},
          "execution_count": 5
        }
      ]
    },
    {
      "cell_type": "code",
      "metadata": {
        "id": "MwS72yszeq80"
      },
      "source": [
        "#Calculate minimum edite distance from deleting, subtitution, or insertion.\n",
        "for i in range(1,n+1):\n",
        "  for j in range(1,m+1):\n",
        "    D[i][j] = min(\n",
        "        D[i-1][j] + delcost,\n",
        "        D[i-1][j-1] + subcost(source[i-1],target[j-1]) ,\n",
        "        D[i][j-1] + inscost\n",
        "    )"
      ],
      "execution_count": 6,
      "outputs": []
    },
    {
      "cell_type": "code",
      "metadata": {
        "colab": {
          "base_uri": "https://localhost:8080/"
        },
        "id": "ZXgSGJl9hwQB",
        "outputId": "d1db43bd-9a26-4a3c-bb79-ebf86bcbf62a"
      },
      "source": [
        "D"
      ],
      "execution_count": 7,
      "outputs": [
        {
          "output_type": "execute_result",
          "data": {
            "text/plain": [
              "[[0, 1, 2, 3, 4, 5, 6, 7, 8, 9],\n",
              " [1, 2, 3, 4, 5, 6, 7, 6, 7, 8],\n",
              " [2, 3, 4, 5, 6, 7, 8, 7, 8, 7],\n",
              " [3, 4, 5, 6, 7, 8, 7, 8, 9, 8],\n",
              " [4, 3, 4, 5, 6, 7, 8, 9, 10, 9],\n",
              " [5, 4, 5, 6, 7, 8, 9, 10, 11, 10],\n",
              " [6, 5, 6, 7, 8, 9, 8, 9, 10, 11],\n",
              " [7, 6, 7, 8, 9, 10, 9, 8, 9, 10],\n",
              " [8, 7, 8, 9, 10, 11, 10, 9, 8, 9],\n",
              " [9, 8, 9, 10, 11, 12, 11, 10, 9, 8]]"
            ]
          },
          "metadata": {},
          "execution_count": 7
        }
      ]
    },
    {
      "cell_type": "code",
      "metadata": {
        "colab": {
          "base_uri": "https://localhost:8080/"
        },
        "id": "4oDUQIPJh2G4",
        "outputId": "8c975ba7-cb8f-46be-cf8c-68cf3f19addd"
      },
      "source": [
        "print(\"The minimum edit distance from {} to {} is {}\".format(source,target,D[9][9])) #Minimum edit distance is the last element of array"
      ],
      "execution_count": 9,
      "outputs": [
        {
          "output_type": "stream",
          "text": [
            "The minimum edit distance from intention to execution is 8\n"
          ],
          "name": "stdout"
        }
      ]
    },
    {
      "cell_type": "code",
      "metadata": {
        "id": "2QUPF1VFmRc-"
      },
      "source": [
        ""
      ],
      "execution_count": 8,
      "outputs": []
    }
  ]
}